{
 "cells": [
  {
   "cell_type": "code",
   "execution_count": 27,
   "metadata": {},
   "outputs": [
    {
     "data": {
      "text/plain": [
       "array([[23.54981483, 75.19931927,  0.92682634, ...,  4.40242513,\n",
       "        59.35901448,  2.06429504],\n",
       "       [22.65642358, 70.64723451,  1.04143035, ...,  4.48452662,\n",
       "        64.46241344,  1.95533862]])"
      ]
     },
     "execution_count": 27,
     "metadata": {},
     "output_type": "execute_result"
    }
   ],
   "source": [
    "vec1 = cpm[0:3]\n",
    "vec1\n",
    "vec2 = cpm[4:7]\n",
    "vec2"
   ]
  },
  {
   "cell_type": "code",
   "execution_count": 28,
   "metadata": {},
   "outputs": [
    {
     "data": {
      "text/plain": [
       "array([15.20683536, 55.69369917,  0.96486138, ...,  1.62765159,\n",
       "       86.01584088,  3.1294287 ])"
      ]
     },
     "execution_count": 28,
     "metadata": {},
     "output_type": "execute_result"
    }
   ],
   "source": [
    "meanTumor=np.mean(vec1,axis=0)\n",
    "meanTumor"
   ]
  },
  {
   "cell_type": "code",
   "execution_count": 29,
   "metadata": {},
   "outputs": [
    {
     "data": {
      "text/plain": [
       "array([23.10311921, 72.92327689,  0.98412835, ...,  4.44347588,\n",
       "       61.91071396,  2.00981683])"
      ]
     },
     "execution_count": 29,
     "metadata": {},
     "output_type": "execute_result"
    }
   ],
   "source": [
    "meanControl=np.mean(vec2,axis=0)\n",
    "meanControl"
   ]
  },
  {
   "cell_type": "code",
   "execution_count": 30,
   "metadata": {},
   "outputs": [],
   "source": [
    "from scipy.stats import ttest_ind"
   ]
  },
  {
   "cell_type": "code",
   "execution_count": 31,
   "metadata": {},
   "outputs": [
    {
     "data": {
      "text/plain": [
       "array([0.00139049, 0.00957123, 0.95022305, ..., 0.00591172, 0.00185351,\n",
       "       0.01790777])"
      ]
     },
     "execution_count": 31,
     "metadata": {},
     "output_type": "execute_result"
    }
   ],
   "source": [
    "pvalue=ttest_ind(vec1,vec2).pvalue\n",
    "pvalue"
   ]
  },
  {
   "cell_type": "code",
   "execution_count": 32,
   "metadata": {},
   "outputs": [
    {
     "data": {
      "text/plain": [
       "array([-7.89628385e+00, -1.72295777e+01, -1.92669657e-02, ...,\n",
       "       -2.81582429e+00,  2.41051269e+01,  1.11961187e+00])"
      ]
     },
     "execution_count": 32,
     "metadata": {},
     "output_type": "execute_result"
    }
   ],
   "source": [
    "log2FC=meanTumor-meanControl\n",
    "log2FC"
   ]
  },
  {
   "cell_type": "code",
   "execution_count": 33,
   "metadata": {},
   "outputs": [
    {
     "data": {
      "text/plain": [
       "array([[ 1.52068354e+01,  5.56936992e+01,  9.64861382e-01, ...,\n",
       "         1.62765159e+00,  8.60158409e+01,  3.12942870e+00],\n",
       "       [ 2.31031192e+01,  7.29232769e+01,  9.84128348e-01, ...,\n",
       "         4.44347588e+00,  6.19107140e+01,  2.00981683e+00],\n",
       "       [-7.89628385e+00, -1.72295777e+01, -1.92669657e-02, ...,\n",
       "        -2.81582429e+00,  2.41051269e+01,  1.11961187e+00],\n",
       "       [ 1.39049477e-03,  9.57122684e-03,  9.50223054e-01, ...,\n",
       "         5.91171637e-03,  1.85350932e-03,  1.79077673e-02]])"
      ]
     },
     "execution_count": 33,
     "metadata": {},
     "output_type": "execute_result"
    }
   ],
   "source": [
    "result=np.stack((meanTumor,meanControl,log2FC,pvalue),axis=0)\n",
    "result"
   ]
  },
  {
   "cell_type": "code",
   "execution_count": 34,
   "metadata": {},
   "outputs": [],
   "source": [
    "r=pd.DataFrame(result)\n",
    "r=r.T"
   ]
  },
  {
   "cell_type": "code",
   "execution_count": 35,
   "metadata": {},
   "outputs": [
    {
     "data": {
      "text/html": [
       "<div>\n",
       "<style scoped>\n",
       "    .dataframe tbody tr th:only-of-type {\n",
       "        vertical-align: middle;\n",
       "    }\n",
       "\n",
       "    .dataframe tbody tr th {\n",
       "        vertical-align: top;\n",
       "    }\n",
       "\n",
       "    .dataframe thead th {\n",
       "        text-align: right;\n",
       "    }\n",
       "</style>\n",
       "<table border=\"1\" class=\"dataframe\">\n",
       "  <thead>\n",
       "    <tr style=\"text-align: right;\">\n",
       "      <th></th>\n",
       "      <th>meanTumor</th>\n",
       "      <th>meanControl</th>\n",
       "      <th>log2FC</th>\n",
       "      <th>pvalue</th>\n",
       "    </tr>\n",
       "  </thead>\n",
       "  <tbody>\n",
       "    <tr>\n",
       "      <th>0</th>\n",
       "      <td>15.206835</td>\n",
       "      <td>23.103119</td>\n",
       "      <td>-7.896284</td>\n",
       "      <td>0.001390</td>\n",
       "    </tr>\n",
       "    <tr>\n",
       "      <th>1</th>\n",
       "      <td>55.693699</td>\n",
       "      <td>72.923277</td>\n",
       "      <td>-17.229578</td>\n",
       "      <td>0.009571</td>\n",
       "    </tr>\n",
       "    <tr>\n",
       "      <th>2</th>\n",
       "      <td>0.964861</td>\n",
       "      <td>0.984128</td>\n",
       "      <td>-0.019267</td>\n",
       "      <td>0.950223</td>\n",
       "    </tr>\n",
       "    <tr>\n",
       "      <th>3</th>\n",
       "      <td>0.169333</td>\n",
       "      <td>0.000000</td>\n",
       "      <td>0.169333</td>\n",
       "      <td>0.133302</td>\n",
       "    </tr>\n",
       "    <tr>\n",
       "      <th>4</th>\n",
       "      <td>0.677514</td>\n",
       "      <td>0.803946</td>\n",
       "      <td>-0.126432</td>\n",
       "      <td>0.104819</td>\n",
       "    </tr>\n",
       "    <tr>\n",
       "      <th>...</th>\n",
       "      <td>...</td>\n",
       "      <td>...</td>\n",
       "      <td>...</td>\n",
       "      <td>...</td>\n",
       "    </tr>\n",
       "    <tr>\n",
       "      <th>17835</th>\n",
       "      <td>0.994175</td>\n",
       "      <td>0.825294</td>\n",
       "      <td>0.168881</td>\n",
       "      <td>0.092199</td>\n",
       "    </tr>\n",
       "    <tr>\n",
       "      <th>17836</th>\n",
       "      <td>44.676443</td>\n",
       "      <td>84.661253</td>\n",
       "      <td>-39.984810</td>\n",
       "      <td>0.000039</td>\n",
       "    </tr>\n",
       "    <tr>\n",
       "      <th>17837</th>\n",
       "      <td>1.627652</td>\n",
       "      <td>4.443476</td>\n",
       "      <td>-2.815824</td>\n",
       "      <td>0.005912</td>\n",
       "    </tr>\n",
       "    <tr>\n",
       "      <th>17838</th>\n",
       "      <td>86.015841</td>\n",
       "      <td>61.910714</td>\n",
       "      <td>24.105127</td>\n",
       "      <td>0.001854</td>\n",
       "    </tr>\n",
       "    <tr>\n",
       "      <th>17839</th>\n",
       "      <td>3.129429</td>\n",
       "      <td>2.009817</td>\n",
       "      <td>1.119612</td>\n",
       "      <td>0.017908</td>\n",
       "    </tr>\n",
       "  </tbody>\n",
       "</table>\n",
       "<p>17840 rows × 4 columns</p>\n",
       "</div>"
      ],
      "text/plain": [
       "       meanTumor  meanControl     log2FC    pvalue\n",
       "0      15.206835    23.103119  -7.896284  0.001390\n",
       "1      55.693699    72.923277 -17.229578  0.009571\n",
       "2       0.964861     0.984128  -0.019267  0.950223\n",
       "3       0.169333     0.000000   0.169333  0.133302\n",
       "4       0.677514     0.803946  -0.126432  0.104819\n",
       "...          ...          ...        ...       ...\n",
       "17835   0.994175     0.825294   0.168881  0.092199\n",
       "17836  44.676443    84.661253 -39.984810  0.000039\n",
       "17837   1.627652     4.443476  -2.815824  0.005912\n",
       "17838  86.015841    61.910714  24.105127  0.001854\n",
       "17839   3.129429     2.009817   1.119612  0.017908\n",
       "\n",
       "[17840 rows x 4 columns]"
      ]
     },
     "execution_count": 35,
     "metadata": {},
     "output_type": "execute_result"
    }
   ],
   "source": [
    "r.columns=[\"meanTumor\",\"meanControl\",\"log2FC\",\"pvalue\"]\n",
    "r"
   ]
  },
  {
   "cell_type": "code",
   "execution_count": 36,
   "metadata": {},
   "outputs": [
    {
     "data": {
      "text/html": [
       "<div>\n",
       "<style scoped>\n",
       "    .dataframe tbody tr th:only-of-type {\n",
       "        vertical-align: middle;\n",
       "    }\n",
       "\n",
       "    .dataframe tbody tr th {\n",
       "        vertical-align: top;\n",
       "    }\n",
       "\n",
       "    .dataframe thead th {\n",
       "        text-align: right;\n",
       "    }\n",
       "</style>\n",
       "<table border=\"1\" class=\"dataframe\">\n",
       "  <thead>\n",
       "    <tr style=\"text-align: right;\">\n",
       "      <th></th>\n",
       "      <th>gene</th>\n",
       "      <th>meanTumor</th>\n",
       "      <th>meanControl</th>\n",
       "      <th>log2FC</th>\n",
       "      <th>pvalue</th>\n",
       "    </tr>\n",
       "  </thead>\n",
       "  <tbody>\n",
       "    <tr>\n",
       "      <th>0</th>\n",
       "      <td>138241</td>\n",
       "      <td>15.206835</td>\n",
       "      <td>23.103119</td>\n",
       "      <td>-7.896284</td>\n",
       "      <td>0.001390</td>\n",
       "    </tr>\n",
       "    <tr>\n",
       "      <th>1</th>\n",
       "      <td>9374</td>\n",
       "      <td>55.693699</td>\n",
       "      <td>72.923277</td>\n",
       "      <td>-17.229578</td>\n",
       "      <td>0.009571</td>\n",
       "    </tr>\n",
       "    <tr>\n",
       "      <th>2</th>\n",
       "      <td>255762</td>\n",
       "      <td>0.964861</td>\n",
       "      <td>0.984128</td>\n",
       "      <td>-0.019267</td>\n",
       "      <td>0.950223</td>\n",
       "    </tr>\n",
       "    <tr>\n",
       "      <th>3</th>\n",
       "      <td>9074</td>\n",
       "      <td>0.169333</td>\n",
       "      <td>0.000000</td>\n",
       "      <td>0.169333</td>\n",
       "      <td>0.133302</td>\n",
       "    </tr>\n",
       "    <tr>\n",
       "      <th>4</th>\n",
       "      <td>10599</td>\n",
       "      <td>0.677514</td>\n",
       "      <td>0.803946</td>\n",
       "      <td>-0.126432</td>\n",
       "      <td>0.104819</td>\n",
       "    </tr>\n",
       "    <tr>\n",
       "      <th>...</th>\n",
       "      <td>...</td>\n",
       "      <td>...</td>\n",
       "      <td>...</td>\n",
       "      <td>...</td>\n",
       "      <td>...</td>\n",
       "    </tr>\n",
       "    <tr>\n",
       "      <th>17835</th>\n",
       "      <td>1088</td>\n",
       "      <td>0.994175</td>\n",
       "      <td>0.825294</td>\n",
       "      <td>0.168881</td>\n",
       "      <td>0.092199</td>\n",
       "    </tr>\n",
       "    <tr>\n",
       "      <th>17836</th>\n",
       "      <td>643155</td>\n",
       "      <td>44.676443</td>\n",
       "      <td>84.661253</td>\n",
       "      <td>-39.984810</td>\n",
       "      <td>0.000039</td>\n",
       "    </tr>\n",
       "    <tr>\n",
       "      <th>17837</th>\n",
       "      <td>4882</td>\n",
       "      <td>1.627652</td>\n",
       "      <td>4.443476</td>\n",
       "      <td>-2.815824</td>\n",
       "      <td>0.005912</td>\n",
       "    </tr>\n",
       "    <tr>\n",
       "      <th>17838</th>\n",
       "      <td>81689</td>\n",
       "      <td>86.015841</td>\n",
       "      <td>61.910714</td>\n",
       "      <td>24.105127</td>\n",
       "      <td>0.001854</td>\n",
       "    </tr>\n",
       "    <tr>\n",
       "      <th>17839</th>\n",
       "      <td>107984562</td>\n",
       "      <td>3.129429</td>\n",
       "      <td>2.009817</td>\n",
       "      <td>1.119612</td>\n",
       "      <td>0.017908</td>\n",
       "    </tr>\n",
       "  </tbody>\n",
       "</table>\n",
       "<p>17840 rows × 5 columns</p>\n",
       "</div>"
      ],
      "text/plain": [
       "            gene  meanTumor  meanControl     log2FC    pvalue\n",
       "0         138241  15.206835    23.103119  -7.896284  0.001390\n",
       "1           9374  55.693699    72.923277 -17.229578  0.009571\n",
       "2         255762   0.964861     0.984128  -0.019267  0.950223\n",
       "3           9074   0.169333     0.000000   0.169333  0.133302\n",
       "4          10599   0.677514     0.803946  -0.126432  0.104819\n",
       "...          ...        ...          ...        ...       ...\n",
       "17835       1088   0.994175     0.825294   0.168881  0.092199\n",
       "17836     643155  44.676443    84.661253 -39.984810  0.000039\n",
       "17837       4882   1.627652     4.443476  -2.815824  0.005912\n",
       "17838      81689  86.015841    61.910714  24.105127  0.001854\n",
       "17839  107984562   3.129429     2.009817   1.119612  0.017908\n",
       "\n",
       "[17840 rows x 5 columns]"
      ]
     },
     "execution_count": 36,
     "metadata": {},
     "output_type": "execute_result"
    }
   ],
   "source": [
    "r['gene']=id1\n",
    "col_1=r.pop('gene')\n",
    "r.insert(0,'gene',col_1)\n",
    "r"
   ]
  },
  {
   "cell_type": "code",
   "execution_count": 37,
   "metadata": {},
   "outputs": [
    {
     "data": {
      "text/html": [
       "<div>\n",
       "<style scoped>\n",
       "    .dataframe tbody tr th:only-of-type {\n",
       "        vertical-align: middle;\n",
       "    }\n",
       "\n",
       "    .dataframe tbody tr th {\n",
       "        vertical-align: top;\n",
       "    }\n",
       "\n",
       "    .dataframe thead th {\n",
       "        text-align: right;\n",
       "    }\n",
       "</style>\n",
       "<table border=\"1\" class=\"dataframe\">\n",
       "  <thead>\n",
       "    <tr style=\"text-align: right;\">\n",
       "      <th></th>\n",
       "      <th>gene</th>\n",
       "      <th>meanTumor</th>\n",
       "      <th>meanControl</th>\n",
       "      <th>log2FC</th>\n",
       "      <th>pvalue</th>\n",
       "    </tr>\n",
       "  </thead>\n",
       "  <tbody>\n",
       "    <tr>\n",
       "      <th>0</th>\n",
       "      <td>138241</td>\n",
       "      <td>15.206835</td>\n",
       "      <td>23.103119</td>\n",
       "      <td>-7.896284</td>\n",
       "      <td>0.001390</td>\n",
       "    </tr>\n",
       "    <tr>\n",
       "      <th>1</th>\n",
       "      <td>9374</td>\n",
       "      <td>55.693699</td>\n",
       "      <td>72.923277</td>\n",
       "      <td>-17.229578</td>\n",
       "      <td>0.009571</td>\n",
       "    </tr>\n",
       "    <tr>\n",
       "      <th>2</th>\n",
       "      <td>255762</td>\n",
       "      <td>0.964861</td>\n",
       "      <td>0.984128</td>\n",
       "      <td>-0.019267</td>\n",
       "      <td>0.950223</td>\n",
       "    </tr>\n",
       "    <tr>\n",
       "      <th>3</th>\n",
       "      <td>9074</td>\n",
       "      <td>0.169333</td>\n",
       "      <td>0.000000</td>\n",
       "      <td>0.169333</td>\n",
       "      <td>0.133302</td>\n",
       "    </tr>\n",
       "    <tr>\n",
       "      <th>4</th>\n",
       "      <td>10599</td>\n",
       "      <td>0.677514</td>\n",
       "      <td>0.803946</td>\n",
       "      <td>-0.126432</td>\n",
       "      <td>0.104819</td>\n",
       "    </tr>\n",
       "    <tr>\n",
       "      <th>...</th>\n",
       "      <td>...</td>\n",
       "      <td>...</td>\n",
       "      <td>...</td>\n",
       "      <td>...</td>\n",
       "      <td>...</td>\n",
       "    </tr>\n",
       "    <tr>\n",
       "      <th>17835</th>\n",
       "      <td>1088</td>\n",
       "      <td>0.994175</td>\n",
       "      <td>0.825294</td>\n",
       "      <td>0.168881</td>\n",
       "      <td>0.092199</td>\n",
       "    </tr>\n",
       "    <tr>\n",
       "      <th>17836</th>\n",
       "      <td>643155</td>\n",
       "      <td>44.676443</td>\n",
       "      <td>84.661253</td>\n",
       "      <td>-39.984810</td>\n",
       "      <td>0.000039</td>\n",
       "    </tr>\n",
       "    <tr>\n",
       "      <th>17837</th>\n",
       "      <td>4882</td>\n",
       "      <td>1.627652</td>\n",
       "      <td>4.443476</td>\n",
       "      <td>-2.815824</td>\n",
       "      <td>0.005912</td>\n",
       "    </tr>\n",
       "    <tr>\n",
       "      <th>17838</th>\n",
       "      <td>81689</td>\n",
       "      <td>86.015841</td>\n",
       "      <td>61.910714</td>\n",
       "      <td>24.105127</td>\n",
       "      <td>0.001854</td>\n",
       "    </tr>\n",
       "    <tr>\n",
       "      <th>17839</th>\n",
       "      <td>107984562</td>\n",
       "      <td>3.129429</td>\n",
       "      <td>2.009817</td>\n",
       "      <td>1.119612</td>\n",
       "      <td>0.017908</td>\n",
       "    </tr>\n",
       "  </tbody>\n",
       "</table>\n",
       "<p>17840 rows × 5 columns</p>\n",
       "</div>"
      ],
      "text/plain": [
       "            gene  meanTumor  meanControl     log2FC    pvalue\n",
       "0         138241  15.206835    23.103119  -7.896284  0.001390\n",
       "1           9374  55.693699    72.923277 -17.229578  0.009571\n",
       "2         255762   0.964861     0.984128  -0.019267  0.950223\n",
       "3           9074   0.169333     0.000000   0.169333  0.133302\n",
       "4          10599   0.677514     0.803946  -0.126432  0.104819\n",
       "...          ...        ...          ...        ...       ...\n",
       "17835       1088   0.994175     0.825294   0.168881  0.092199\n",
       "17836     643155  44.676443    84.661253 -39.984810  0.000039\n",
       "17837       4882   1.627652     4.443476  -2.815824  0.005912\n",
       "17838      81689  86.015841    61.910714  24.105127  0.001854\n",
       "17839  107984562   3.129429     2.009817   1.119612  0.017908\n",
       "\n",
       "[17840 rows x 5 columns]"
      ]
     },
     "execution_count": 37,
     "metadata": {},
     "output_type": "execute_result"
    }
   ],
   "source": [
    "r['pvalue']=r['pvalue'].fillna(1)\n",
    "r"
   ]
  },
  {
   "cell_type": "code",
   "execution_count": 38,
   "metadata": {},
   "outputs": [],
   "source": [
    "r.to_csv(\"deg.csv\",index=False)"
   ]
  },
  {
   "cell_type": "code",
   "execution_count": 39,
   "metadata": {},
   "outputs": [],
   "source": [
    "from bioinfokit import analys, visuz\n",
    "from bioinfokit.visuz import gene_exp"
   ]
  },
  {
   "cell_type": "code",
   "execution_count": 40,
   "metadata": {},
   "outputs": [
    {
     "data": {
      "image/png": "[encoded data removed]",
      "text/plain": [
       "<Figure size 500x500 with 1 Axes>"
      ]
     },
     "metadata": {},
     "output_type": "display_data"
    }
   ],
   "source": [
    "gene_exp.volcano(r, lfc='log2FC', pv='pvalue', plotlegend=True, legendpos='upper right', \n",
    "    legendanchor=(1.46,1),show=True)"
   ]
  }
 ],
 "metadata": {
  "kernelspec": {
   "display_name": "Python 3.9.12",
   "language": "python",
   "name": "python3"
  },
  "language_info": {
   "codemirror_mode": {
    "name": "ipython",
    "version": 3
   },
   "file_extension": ".py",
   "mimetype": "text/x-python",
   "name": "python",
   "nbconvert_exporter": "python",
   "pygments_lexer": "ipython3",
   "version": "3.9.12"
  },
  "orig_nbformat": 4,
  "vscode": {
   "interpreter": {
    "hash": "e371b53bb9fb7487f0954df4a3e6b0419537199ba86c0756081198a1d0980de4"
   }
  }
 },
 "nbformat": 4,
 "nbformat_minor": 2
}
