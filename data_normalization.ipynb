{
 "cells": [
  {
   "cell_type": "code",
   "execution_count": 67,
   "metadata": {},
   "outputs": [],
   "source": [
    "import pandas as pd \n",
    "import numpy as np"
   ]
  },
  {
   "cell_type": "code",
   "execution_count": 68,
   "metadata": {},
   "outputs": [
    {
     "data": {
      "text/html": [
       "<div>\n",
       "<style scoped>\n",
       "    .dataframe tbody tr th:only-of-type {\n",
       "        vertical-align: middle;\n",
       "    }\n",
       "\n",
       "    .dataframe tbody tr th {\n",
       "        vertical-align: top;\n",
       "    }\n",
       "\n",
       "    .dataframe thead th {\n",
       "        text-align: right;\n",
       "    }\n",
       "</style>\n",
       "<table border=\"1\" class=\"dataframe\">\n",
       "  <thead>\n",
       "    <tr style=\"text-align: right;\">\n",
       "      <th></th>\n",
       "      <th>gene_id</th>\n",
       "      <th>Hela_1_FPKM</th>\n",
       "      <th>Hela_2_FPKM</th>\n",
       "      <th>Hela_3_FPKM</th>\n",
       "      <th>Hela_HLAG_4_FPKM</th>\n",
       "      <th>Hela_HLAG_5_FPKM</th>\n",
       "      <th>Hela_HLAG_6_FPKM</th>\n",
       "      <th>gene_symbol</th>\n",
       "    </tr>\n",
       "  </thead>\n",
       "  <tbody>\n",
       "    <tr>\n",
       "      <th>0</th>\n",
       "      <td>138241</td>\n",
       "      <td>6.86</td>\n",
       "      <td>6.54</td>\n",
       "      <td>7.25</td>\n",
       "      <td>10.74</td>\n",
       "      <td>11.18</td>\n",
       "      <td>10.66</td>\n",
       "      <td>C9orf85</td>\n",
       "    </tr>\n",
       "    <tr>\n",
       "      <th>1</th>\n",
       "      <td>9374</td>\n",
       "      <td>23.69</td>\n",
       "      <td>25.44</td>\n",
       "      <td>26.50</td>\n",
       "      <td>34.41</td>\n",
       "      <td>35.70</td>\n",
       "      <td>33.24</td>\n",
       "      <td>PPT2</td>\n",
       "    </tr>\n",
       "    <tr>\n",
       "      <th>2</th>\n",
       "      <td>255762</td>\n",
       "      <td>0.53</td>\n",
       "      <td>0.24</td>\n",
       "      <td>0.54</td>\n",
       "      <td>0.23</td>\n",
       "      <td>0.44</td>\n",
       "      <td>0.49</td>\n",
       "      <td>PDZD9</td>\n",
       "    </tr>\n",
       "    <tr>\n",
       "      <th>3</th>\n",
       "      <td>9074</td>\n",
       "      <td>0.03</td>\n",
       "      <td>0.13</td>\n",
       "      <td>0.07</td>\n",
       "      <td>0.00</td>\n",
       "      <td>0.00</td>\n",
       "      <td>0.00</td>\n",
       "      <td>CLDN6</td>\n",
       "    </tr>\n",
       "    <tr>\n",
       "      <th>4</th>\n",
       "      <td>10599</td>\n",
       "      <td>0.32</td>\n",
       "      <td>0.27</td>\n",
       "      <td>0.33</td>\n",
       "      <td>0.43</td>\n",
       "      <td>0.39</td>\n",
       "      <td>0.37</td>\n",
       "      <td>SLCO1B1</td>\n",
       "    </tr>\n",
       "    <tr>\n",
       "      <th>...</th>\n",
       "      <td>...</td>\n",
       "      <td>...</td>\n",
       "      <td>...</td>\n",
       "      <td>...</td>\n",
       "      <td>...</td>\n",
       "      <td>...</td>\n",
       "      <td>...</td>\n",
       "      <td>...</td>\n",
       "    </tr>\n",
       "    <tr>\n",
       "      <th>17835</th>\n",
       "      <td>1088</td>\n",
       "      <td>0.45</td>\n",
       "      <td>0.41</td>\n",
       "      <td>0.49</td>\n",
       "      <td>0.28</td>\n",
       "      <td>0.38</td>\n",
       "      <td>0.40</td>\n",
       "      <td>CEACAM8</td>\n",
       "    </tr>\n",
       "    <tr>\n",
       "      <th>17836</th>\n",
       "      <td>643155</td>\n",
       "      <td>20.00</td>\n",
       "      <td>20.34</td>\n",
       "      <td>20.33</td>\n",
       "      <td>42.62</td>\n",
       "      <td>39.56</td>\n",
       "      <td>40.46</td>\n",
       "      <td>SMIM15</td>\n",
       "    </tr>\n",
       "    <tr>\n",
       "      <th>17837</th>\n",
       "      <td>4882</td>\n",
       "      <td>0.91</td>\n",
       "      <td>0.46</td>\n",
       "      <td>0.84</td>\n",
       "      <td>1.75</td>\n",
       "      <td>2.09</td>\n",
       "      <td>2.11</td>\n",
       "      <td>NPR2</td>\n",
       "    </tr>\n",
       "    <tr>\n",
       "      <th>17838</th>\n",
       "      <td>81689</td>\n",
       "      <td>39.01</td>\n",
       "      <td>39.72</td>\n",
       "      <td>38.08</td>\n",
       "      <td>31.20</td>\n",
       "      <td>28.18</td>\n",
       "      <td>30.33</td>\n",
       "      <td>ISCA1</td>\n",
       "    </tr>\n",
       "    <tr>\n",
       "      <th>17839</th>\n",
       "      <td>107984562</td>\n",
       "      <td>1.45</td>\n",
       "      <td>1.54</td>\n",
       "      <td>1.26</td>\n",
       "      <td>0.77</td>\n",
       "      <td>0.98</td>\n",
       "      <td>0.92</td>\n",
       "      <td>LOC107984562</td>\n",
       "    </tr>\n",
       "  </tbody>\n",
       "</table>\n",
       "<p>17840 rows × 8 columns</p>\n",
       "</div>"
      ],
      "text/plain": [
       "         gene_id  Hela_1_FPKM  Hela_2_FPKM  Hela_3_FPKM  Hela_HLAG_4_FPKM  \\\n",
       "0         138241         6.86         6.54         7.25             10.74   \n",
       "1           9374        23.69        25.44        26.50             34.41   \n",
       "2         255762         0.53         0.24         0.54              0.23   \n",
       "3           9074         0.03         0.13         0.07              0.00   \n",
       "4          10599         0.32         0.27         0.33              0.43   \n",
       "...          ...          ...          ...          ...               ...   \n",
       "17835       1088         0.45         0.41         0.49              0.28   \n",
       "17836     643155        20.00        20.34        20.33             42.62   \n",
       "17837       4882         0.91         0.46         0.84              1.75   \n",
       "17838      81689        39.01        39.72        38.08             31.20   \n",
       "17839  107984562         1.45         1.54         1.26              0.77   \n",
       "\n",
       "       Hela_HLAG_5_FPKM  Hela_HLAG_6_FPKM   gene_symbol  \n",
       "0                 11.18             10.66       C9orf85  \n",
       "1                 35.70             33.24          PPT2  \n",
       "2                  0.44              0.49         PDZD9  \n",
       "3                  0.00              0.00         CLDN6  \n",
       "4                  0.39              0.37       SLCO1B1  \n",
       "...                 ...               ...           ...  \n",
       "17835              0.38              0.40       CEACAM8  \n",
       "17836             39.56             40.46        SMIM15  \n",
       "17837              2.09              2.11          NPR2  \n",
       "17838             28.18             30.33         ISCA1  \n",
       "17839              0.98              0.92  LOC107984562  \n",
       "\n",
       "[17840 rows x 8 columns]"
      ]
     },
     "execution_count": 68,
     "metadata": {},
     "output_type": "execute_result"
    }
   ],
   "source": [
    "file=pd.read_csv(\"C:/Users/grewa/Desktop/cervical_cancer/GSE208117_Processed_data_files_HeLa-HLA-G_VS._HeLa_FPKM.csv.gz\")\n",
    "id1=file['gene_id']\n",
    "file"
   ]
  },
  {
   "cell_type": "code",
   "execution_count": 69,
   "metadata": {},
   "outputs": [
    {
     "data": {
      "text/html": [
       "<div>\n",
       "<style scoped>\n",
       "    .dataframe tbody tr th:only-of-type {\n",
       "        vertical-align: middle;\n",
       "    }\n",
       "\n",
       "    .dataframe tbody tr th {\n",
       "        vertical-align: top;\n",
       "    }\n",
       "\n",
       "    .dataframe thead th {\n",
       "        text-align: right;\n",
       "    }\n",
       "</style>\n",
       "<table border=\"1\" class=\"dataframe\">\n",
       "  <thead>\n",
       "    <tr style=\"text-align: right;\">\n",
       "      <th></th>\n",
       "      <th>Hela_1_FPKM</th>\n",
       "      <th>Hela_2_FPKM</th>\n",
       "      <th>Hela_3_FPKM</th>\n",
       "      <th>Hela_HLAG_4_FPKM</th>\n",
       "      <th>Hela_HLAG_5_FPKM</th>\n",
       "      <th>Hela_HLAG_6_FPKM</th>\n",
       "    </tr>\n",
       "  </thead>\n",
       "  <tbody>\n",
       "    <tr>\n",
       "      <th>0</th>\n",
       "      <td>6.86</td>\n",
       "      <td>6.54</td>\n",
       "      <td>7.25</td>\n",
       "      <td>10.74</td>\n",
       "      <td>11.18</td>\n",
       "      <td>10.66</td>\n",
       "    </tr>\n",
       "    <tr>\n",
       "      <th>1</th>\n",
       "      <td>23.69</td>\n",
       "      <td>25.44</td>\n",
       "      <td>26.50</td>\n",
       "      <td>34.41</td>\n",
       "      <td>35.70</td>\n",
       "      <td>33.24</td>\n",
       "    </tr>\n",
       "    <tr>\n",
       "      <th>2</th>\n",
       "      <td>0.53</td>\n",
       "      <td>0.24</td>\n",
       "      <td>0.54</td>\n",
       "      <td>0.23</td>\n",
       "      <td>0.44</td>\n",
       "      <td>0.49</td>\n",
       "    </tr>\n",
       "    <tr>\n",
       "      <th>3</th>\n",
       "      <td>0.03</td>\n",
       "      <td>0.13</td>\n",
       "      <td>0.07</td>\n",
       "      <td>0.00</td>\n",
       "      <td>0.00</td>\n",
       "      <td>0.00</td>\n",
       "    </tr>\n",
       "    <tr>\n",
       "      <th>4</th>\n",
       "      <td>0.32</td>\n",
       "      <td>0.27</td>\n",
       "      <td>0.33</td>\n",
       "      <td>0.43</td>\n",
       "      <td>0.39</td>\n",
       "      <td>0.37</td>\n",
       "    </tr>\n",
       "    <tr>\n",
       "      <th>...</th>\n",
       "      <td>...</td>\n",
       "      <td>...</td>\n",
       "      <td>...</td>\n",
       "      <td>...</td>\n",
       "      <td>...</td>\n",
       "      <td>...</td>\n",
       "    </tr>\n",
       "    <tr>\n",
       "      <th>17835</th>\n",
       "      <td>0.45</td>\n",
       "      <td>0.41</td>\n",
       "      <td>0.49</td>\n",
       "      <td>0.28</td>\n",
       "      <td>0.38</td>\n",
       "      <td>0.40</td>\n",
       "    </tr>\n",
       "    <tr>\n",
       "      <th>17836</th>\n",
       "      <td>20.00</td>\n",
       "      <td>20.34</td>\n",
       "      <td>20.33</td>\n",
       "      <td>42.62</td>\n",
       "      <td>39.56</td>\n",
       "      <td>40.46</td>\n",
       "    </tr>\n",
       "    <tr>\n",
       "      <th>17837</th>\n",
       "      <td>0.91</td>\n",
       "      <td>0.46</td>\n",
       "      <td>0.84</td>\n",
       "      <td>1.75</td>\n",
       "      <td>2.09</td>\n",
       "      <td>2.11</td>\n",
       "    </tr>\n",
       "    <tr>\n",
       "      <th>17838</th>\n",
       "      <td>39.01</td>\n",
       "      <td>39.72</td>\n",
       "      <td>38.08</td>\n",
       "      <td>31.20</td>\n",
       "      <td>28.18</td>\n",
       "      <td>30.33</td>\n",
       "    </tr>\n",
       "    <tr>\n",
       "      <th>17839</th>\n",
       "      <td>1.45</td>\n",
       "      <td>1.54</td>\n",
       "      <td>1.26</td>\n",
       "      <td>0.77</td>\n",
       "      <td>0.98</td>\n",
       "      <td>0.92</td>\n",
       "    </tr>\n",
       "  </tbody>\n",
       "</table>\n",
       "<p>17840 rows × 6 columns</p>\n",
       "</div>"
      ],
      "text/plain": [
       "       Hela_1_FPKM  Hela_2_FPKM  Hela_3_FPKM  Hela_HLAG_4_FPKM  \\\n",
       "0             6.86         6.54         7.25             10.74   \n",
       "1            23.69        25.44        26.50             34.41   \n",
       "2             0.53         0.24         0.54              0.23   \n",
       "3             0.03         0.13         0.07              0.00   \n",
       "4             0.32         0.27         0.33              0.43   \n",
       "...            ...          ...          ...               ...   \n",
       "17835         0.45         0.41         0.49              0.28   \n",
       "17836        20.00        20.34        20.33             42.62   \n",
       "17837         0.91         0.46         0.84              1.75   \n",
       "17838        39.01        39.72        38.08             31.20   \n",
       "17839         1.45         1.54         1.26              0.77   \n",
       "\n",
       "       Hela_HLAG_5_FPKM  Hela_HLAG_6_FPKM  \n",
       "0                 11.18             10.66  \n",
       "1                 35.70             33.24  \n",
       "2                  0.44              0.49  \n",
       "3                  0.00              0.00  \n",
       "4                  0.39              0.37  \n",
       "...                 ...               ...  \n",
       "17835              0.38              0.40  \n",
       "17836             39.56             40.46  \n",
       "17837              2.09              2.11  \n",
       "17838             28.18             30.33  \n",
       "17839              0.98              0.92  \n",
       "\n",
       "[17840 rows x 6 columns]"
      ]
     },
     "execution_count": 69,
     "metadata": {},
     "output_type": "execute_result"
    }
   ],
   "source": [
    "file.drop(['gene_id','gene_symbol'],axis=1,inplace=True)\n",
    "file"
   ]
  },
  {
   "cell_type": "code",
   "execution_count": 70,
   "metadata": {},
   "outputs": [
    {
     "data": {
      "text/plain": [
       "array([[ 6.86,  6.54,  7.25, 10.74, 11.18, 10.66],\n",
       "       [23.69, 25.44, 26.5 , 34.41, 35.7 , 33.24],\n",
       "       [ 0.53,  0.24,  0.54,  0.23,  0.44,  0.49],\n",
       "       ...,\n",
       "       [ 0.91,  0.46,  0.84,  1.75,  2.09,  2.11],\n",
       "       [39.01, 39.72, 38.08, 31.2 , 28.18, 30.33],\n",
       "       [ 1.45,  1.54,  1.26,  0.77,  0.98,  0.92]])"
      ]
     },
     "execution_count": 70,
     "metadata": {},
     "output_type": "execute_result"
    }
   ],
   "source": [
    "file=file.values\n",
    "file"
   ]
  },
  {
   "cell_type": "code",
   "execution_count": 71,
   "metadata": {},
   "outputs": [
    {
     "name": "stdout",
     "output_type": "stream",
     "text": [
      "ignore error\n",
      "[array([15.15272232, 52.3276956 ,  1.17069137, ...,  2.010055  ,\n",
      "       86.16730289,  3.20283489]), array([14.43494602, 56.15061573,  0.52972279, ...,  1.01530201,\n",
      "       87.66912173,  3.39905457]), array([16.03283773, 58.60278618,  1.19416998, ...,  1.85759775,\n",
      "       84.21109803,  2.78639663]), array([23.00522133, 73.7066728 ,  0.49266303, ...,  3.74852303,\n",
      "       66.83081056,  1.64935013]), array([23.54981483, 75.19931927,  0.92682634, ...,  4.40242513,\n",
      "       59.35901448,  2.06429504]), array([22.65642358, 70.64723451,  1.04143035, ...,  4.48452662,\n",
      "       64.46241344,  1.95533862])]\n"
     ]
    }
   ],
   "source": [
    "try:\n",
    "    cpm=[]\n",
    "    for i in range(0,len(file)):\n",
    "            colsum=file[:,i].sum()\n",
    "\n",
    "            c1=(file[:,i]/colsum)*10**6\n",
    "            cpm.append(c1)\n",
    "    \n",
    "except:\n",
    "    print(\"ignore error\")\n",
    "print(cpm)"
   ]
  },
  {
   "cell_type": "code",
   "execution_count": 72,
   "metadata": {},
   "outputs": [
    {
     "data": {
      "text/plain": [
       "array([[15.15272232, 52.3276956 ,  1.17069137, ...,  2.010055  ,\n",
       "        86.16730289,  3.20283489],\n",
       "       [14.43494602, 56.15061573,  0.52972279, ...,  1.01530201,\n",
       "        87.66912173,  3.39905457],\n",
       "       [16.03283773, 58.60278618,  1.19416998, ...,  1.85759775,\n",
       "        84.21109803,  2.78639663],\n",
       "       [23.00522133, 73.7066728 ,  0.49266303, ...,  3.74852303,\n",
       "        66.83081056,  1.64935013],\n",
       "       [23.54981483, 75.19931927,  0.92682634, ...,  4.40242513,\n",
       "        59.35901448,  2.06429504],\n",
       "       [22.65642358, 70.64723451,  1.04143035, ...,  4.48452662,\n",
       "        64.46241344,  1.95533862]])"
      ]
     },
     "execution_count": 72,
     "metadata": {},
     "output_type": "execute_result"
    }
   ],
   "source": [
    "cpm=np.array(cpm)\n",
    "cpm"
   ]
  },
  {
   "cell_type": "code",
   "execution_count": 73,
   "metadata": {},
   "outputs": [
    {
     "data": {
      "text/plain": [
       "array([[4.01370543, 5.73681308, 1.11815462, ..., 1.58978985, 6.44571517,\n",
       "        2.07136278],\n",
       "       [3.94812853, 5.83669714, 0.61327024, ..., 1.01099606, 6.47035988,\n",
       "        2.1371935 ],\n",
       "       [4.09024691, 5.89730787, 1.1336753 , ..., 1.51480285, 6.41296944,\n",
       "        1.92082554],\n",
       "       [4.58527633, 6.22316521, 0.57788851, ..., 2.24747885, 6.08386883,\n",
       "        1.40563852],\n",
       "       [4.61764024, 6.2517062 , 0.94622655, ..., 2.43360717, 5.91549735,\n",
       "        1.61555521],\n",
       "       [4.56416008, 6.16283911, 1.02958035, ..., 2.4553671 , 6.03259489,\n",
       "        1.56332344]])"
      ]
     },
     "execution_count": 73,
     "metadata": {},
     "output_type": "execute_result"
    }
   ],
   "source": [
    "logv=np.log2(cpm+1)\n",
    "logv"
   ]
  },
  {
   "cell_type": "code",
   "execution_count": 74,
   "metadata": {},
   "outputs": [
    {
     "name": "stdout",
     "output_type": "stream",
     "text": [
      "Minimum value: 0.0 \n",
      "Maximmum value: 13.234660083796802\n"
     ]
    }
   ],
   "source": [
    "print(\"Minimum value:\",logv[0].min(),\"\\nMaximmum value:\",logv[0].max())"
   ]
  },
  {
   "cell_type": "code",
   "execution_count": 75,
   "metadata": {},
   "outputs": [
    {
     "data": {
      "text/plain": [
       "array([[-1.00104206, -1.39424827,  0.95052826, ..., -0.52946374,\n",
       "         0.98386509,  1.04764218],\n",
       "       [-1.22780567, -0.89913438, -1.28136808, ..., -1.60265521,\n",
       "         1.09464256,  1.28902793],\n",
       "       [-0.73636312, -0.59869388,  1.01913909, ..., -0.6685036 ,\n",
       "         0.83667372,  0.49565753],\n",
       "       [ 0.9754389 ,  1.01654387, -1.43777686, ...,  0.69001415,\n",
       "        -0.6426266 , -1.39341209],\n",
       "       [ 1.08735265,  1.15801836,  0.19050154, ...,  1.03513072,\n",
       "        -1.39945288, -0.62369697],\n",
       "       [ 0.9024193 ,  0.7175143 ,  0.55897605, ...,  1.07547768,\n",
       "        -0.87310189, -0.81521857]])"
      ]
     },
     "execution_count": 75,
     "metadata": {},
     "output_type": "execute_result"
    }
   ],
   "source": [
    "import scipy.stats as st\n",
    "zscr=st.zscore(logv)\n",
    "zscr"
   ]
  },
  {
   "cell_type": "code",
   "execution_count": 76,
   "metadata": {},
   "outputs": [
    {
     "data": {
      "text/plain": [
       "(6, 17840)"
      ]
     },
     "execution_count": 76,
     "metadata": {},
     "output_type": "execute_result"
    }
   ],
   "source": [
    "zscr.shape"
   ]
  },
  {
   "cell_type": "code",
   "execution_count": 77,
   "metadata": {},
   "outputs": [
    {
     "data": {
      "text/plain": [
       "(17840,)"
      ]
     },
     "execution_count": 77,
     "metadata": {},
     "output_type": "execute_result"
    }
   ],
   "source": [
    "id1.values.shape"
   ]
  },
  {
   "cell_type": "code",
   "execution_count": 78,
   "metadata": {},
   "outputs": [
    {
     "data": {
      "text/plain": [
       "array([[-1.00104206, -1.22780567, -0.73636312,  0.9754389 ,  1.08735265,\n",
       "         0.9024193 ],\n",
       "       [-1.39424827, -0.89913438, -0.59869388,  1.01654387,  1.15801836,\n",
       "         0.7175143 ],\n",
       "       [ 0.95052826, -1.28136808,  1.01913909, -1.43777686,  0.19050154,\n",
       "         0.55897605],\n",
       "       ...,\n",
       "       [-0.52946374, -1.60265521, -0.6685036 ,  0.69001415,  1.03513072,\n",
       "         1.07547768],\n",
       "       [ 0.98386509,  1.09464256,  0.83667372, -0.6426266 , -1.39945288,\n",
       "        -0.87310189],\n",
       "       [ 1.04764218,  1.28902793,  0.49565753, -1.39341209, -0.62369697,\n",
       "        -0.81521857]])"
      ]
     },
     "execution_count": 78,
     "metadata": {},
     "output_type": "execute_result"
    }
   ],
   "source": [
    "zscr=pd.DataFrame(zscr)\n",
    "new=zscr.T\n",
    "#new['gene']=id1\n",
    "zscr=new.dropna()\n",
    "#zscr['gene']=id1\n",
    "zscr=zscr.values\n",
    "zscr"
   ]
  },
  {
   "cell_type": "code",
   "execution_count": 79,
   "metadata": {},
   "outputs": [
    {
     "data": {
      "text/plain": [
       "array([[-1.39424827, -0.89913438, -0.59869388,  1.01654387,  1.15801836,\n",
       "         0.7175143 ],\n",
       "       [ 0.95052826, -1.28136808,  1.01913909, -1.43777686,  0.19050154,\n",
       "         0.55897605],\n",
       "       [-0.13348191,  1.8651035 ,  0.7140285 , -0.8152167 , -0.8152167 ,\n",
       "        -0.8152167 ]])"
      ]
     },
     "execution_count": 79,
     "metadata": {},
     "output_type": "execute_result"
    }
   ],
   "source": [
    "zscr[1:4]"
   ]
  },
  {
   "cell_type": "code",
   "execution_count": null,
   "metadata": {},
   "outputs": [],
   "source": []
  }
 ],
 "metadata": {
  "kernelspec": {
   "display_name": "Python 3.9.12",
   "language": "python",
   "name": "python3"
  },
  "language_info": {
   "codemirror_mode": {
    "name": "ipython",
    "version": 3
   },
   "file_extension": ".py",
   "mimetype": "text/x-python",
   "name": "python",
   "nbconvert_exporter": "python",
   "pygments_lexer": "ipython3",
   "version": "3.9.12"
  },
  "vscode": {
   "interpreter": {
    "hash": "e371b53bb9fb7487f0954df4a3e6b0419537199ba86c0756081198a1d0980de4"
   }
  }
 },
 "nbformat": 4,
 "nbformat_minor": 4
}
